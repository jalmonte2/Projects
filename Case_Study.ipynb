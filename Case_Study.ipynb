{
  "nbformat": 4,
  "nbformat_minor": 0,
  "metadata": {
    "colab": {
      "provenance": []
    },
    "kernelspec": {
      "name": "python3",
      "display_name": "Python 3"
    },
    "language_info": {
      "name": "python"
    }
  },
  "cells": [
    {
      "cell_type": "markdown",
      "source": [
        "# Bank Customer Occupation, Duration and Churn\n"
      ],
      "metadata": {
        "id": "Zw6Ljjt3Kjxn"
      }
    },
    {
      "cell_type": "code",
      "execution_count": null,
      "metadata": {
        "id": "s1sOK5jqfgnC"
      },
      "outputs": [],
      "source": [
        "%matplotlib inline\n",
        "import pandas as pd\n",
        "import numpy as np\n",
        "import matplotlib.pyplot as plt\n",
        "import seaborn as sns\n",
        "from scipy import stats"
      ]
    },
    {
      "cell_type": "markdown",
      "source": [
        "Datasource: [Bank Customer Churn Data](https://www.kaggle.com/datasets/pentakrishnakishore/bank-customer-churn-data/data)"
      ],
      "metadata": {
        "id": "NmuGfFaiLc34"
      }
    },
    {
      "cell_type": "markdown",
      "source": [
        "Preface: In my research I am going to look at customers who have churned, their known occupations and their longevity with the establishment. Does occupation play a role in a person's duration with a bank? I am hopeful that this study will benefit bank owners, and potentially create opportunities for additional research.\n",
        "\n",
        "In the Bank Customer Churn Data dataset (hyperlink provided above), the occupations are as follows: company, retired, salaried, self-employed, and student. To prepare the data, I will use the following categories; self-employed vs salaried vs other. I will be combine company, retired and student into a single group called other. Additionally, I will filter to only customers who churned, where the churn field has values equal to 1. Moreover, I will be using the vintage field to gauge customer duration. I will then remove any null values, within any of the aforementioned fields."
      ],
      "metadata": {
        "id": "cby7hf2BLwdt"
      }
    },
    {
      "cell_type": "markdown",
      "source": [
        "## Hypothesis: Given the customer's occupation, is there a difference in the duration of the relationship with the bank, for customers who churned?\n",
        "\n"
      ],
      "metadata": {
        "id": "ZEGRc5hLMGFJ"
      }
    },
    {
      "cell_type": "code",
      "source": [
        "# Upload CSV file"
      ],
      "metadata": {
        "id": "8ZqbJYKO285W"
      },
      "execution_count": null,
      "outputs": []
    },
    {
      "cell_type": "code",
      "source": [
        "from google.colab import files\n",
        "uploaded = files.upload()"
      ],
      "metadata": {
        "colab": {
          "base_uri": "https://localhost:8080/",
          "height": 73
        },
        "id": "jwB7sJRxfoI2",
        "outputId": "442dc8a0-d2be-45a9-893e-65353eb96073"
      },
      "execution_count": null,
      "outputs": [
        {
          "output_type": "display_data",
          "data": {
            "text/plain": [
              "<IPython.core.display.HTML object>"
            ],
            "text/html": [
              "\n",
              "     <input type=\"file\" id=\"files-e601f7ba-f50d-45e0-9e4c-bc0167a4bf8e\" name=\"files[]\" multiple disabled\n",
              "        style=\"border:none\" />\n",
              "     <output id=\"result-e601f7ba-f50d-45e0-9e4c-bc0167a4bf8e\">\n",
              "      Upload widget is only available when the cell has been executed in the\n",
              "      current browser session. Please rerun this cell to enable.\n",
              "      </output>\n",
              "      <script>// Copyright 2017 Google LLC\n",
              "//\n",
              "// Licensed under the Apache License, Version 2.0 (the \"License\");\n",
              "// you may not use this file except in compliance with the License.\n",
              "// You may obtain a copy of the License at\n",
              "//\n",
              "//      http://www.apache.org/licenses/LICENSE-2.0\n",
              "//\n",
              "// Unless required by applicable law or agreed to in writing, software\n",
              "// distributed under the License is distributed on an \"AS IS\" BASIS,\n",
              "// WITHOUT WARRANTIES OR CONDITIONS OF ANY KIND, either express or implied.\n",
              "// See the License for the specific language governing permissions and\n",
              "// limitations under the License.\n",
              "\n",
              "/**\n",
              " * @fileoverview Helpers for google.colab Python module.\n",
              " */\n",
              "(function(scope) {\n",
              "function span(text, styleAttributes = {}) {\n",
              "  const element = document.createElement('span');\n",
              "  element.textContent = text;\n",
              "  for (const key of Object.keys(styleAttributes)) {\n",
              "    element.style[key] = styleAttributes[key];\n",
              "  }\n",
              "  return element;\n",
              "}\n",
              "\n",
              "// Max number of bytes which will be uploaded at a time.\n",
              "const MAX_PAYLOAD_SIZE = 100 * 1024;\n",
              "\n",
              "function _uploadFiles(inputId, outputId) {\n",
              "  const steps = uploadFilesStep(inputId, outputId);\n",
              "  const outputElement = document.getElementById(outputId);\n",
              "  // Cache steps on the outputElement to make it available for the next call\n",
              "  // to uploadFilesContinue from Python.\n",
              "  outputElement.steps = steps;\n",
              "\n",
              "  return _uploadFilesContinue(outputId);\n",
              "}\n",
              "\n",
              "// This is roughly an async generator (not supported in the browser yet),\n",
              "// where there are multiple asynchronous steps and the Python side is going\n",
              "// to poll for completion of each step.\n",
              "// This uses a Promise to block the python side on completion of each step,\n",
              "// then passes the result of the previous step as the input to the next step.\n",
              "function _uploadFilesContinue(outputId) {\n",
              "  const outputElement = document.getElementById(outputId);\n",
              "  const steps = outputElement.steps;\n",
              "\n",
              "  const next = steps.next(outputElement.lastPromiseValue);\n",
              "  return Promise.resolve(next.value.promise).then((value) => {\n",
              "    // Cache the last promise value to make it available to the next\n",
              "    // step of the generator.\n",
              "    outputElement.lastPromiseValue = value;\n",
              "    return next.value.response;\n",
              "  });\n",
              "}\n",
              "\n",
              "/**\n",
              " * Generator function which is called between each async step of the upload\n",
              " * process.\n",
              " * @param {string} inputId Element ID of the input file picker element.\n",
              " * @param {string} outputId Element ID of the output display.\n",
              " * @return {!Iterable<!Object>} Iterable of next steps.\n",
              " */\n",
              "function* uploadFilesStep(inputId, outputId) {\n",
              "  const inputElement = document.getElementById(inputId);\n",
              "  inputElement.disabled = false;\n",
              "\n",
              "  const outputElement = document.getElementById(outputId);\n",
              "  outputElement.innerHTML = '';\n",
              "\n",
              "  const pickedPromise = new Promise((resolve) => {\n",
              "    inputElement.addEventListener('change', (e) => {\n",
              "      resolve(e.target.files);\n",
              "    });\n",
              "  });\n",
              "\n",
              "  const cancel = document.createElement('button');\n",
              "  inputElement.parentElement.appendChild(cancel);\n",
              "  cancel.textContent = 'Cancel upload';\n",
              "  const cancelPromise = new Promise((resolve) => {\n",
              "    cancel.onclick = () => {\n",
              "      resolve(null);\n",
              "    };\n",
              "  });\n",
              "\n",
              "  // Wait for the user to pick the files.\n",
              "  const files = yield {\n",
              "    promise: Promise.race([pickedPromise, cancelPromise]),\n",
              "    response: {\n",
              "      action: 'starting',\n",
              "    }\n",
              "  };\n",
              "\n",
              "  cancel.remove();\n",
              "\n",
              "  // Disable the input element since further picks are not allowed.\n",
              "  inputElement.disabled = true;\n",
              "\n",
              "  if (!files) {\n",
              "    return {\n",
              "      response: {\n",
              "        action: 'complete',\n",
              "      }\n",
              "    };\n",
              "  }\n",
              "\n",
              "  for (const file of files) {\n",
              "    const li = document.createElement('li');\n",
              "    li.append(span(file.name, {fontWeight: 'bold'}));\n",
              "    li.append(span(\n",
              "        `(${file.type || 'n/a'}) - ${file.size} bytes, ` +\n",
              "        `last modified: ${\n",
              "            file.lastModifiedDate ? file.lastModifiedDate.toLocaleDateString() :\n",
              "                                    'n/a'} - `));\n",
              "    const percent = span('0% done');\n",
              "    li.appendChild(percent);\n",
              "\n",
              "    outputElement.appendChild(li);\n",
              "\n",
              "    const fileDataPromise = new Promise((resolve) => {\n",
              "      const reader = new FileReader();\n",
              "      reader.onload = (e) => {\n",
              "        resolve(e.target.result);\n",
              "      };\n",
              "      reader.readAsArrayBuffer(file);\n",
              "    });\n",
              "    // Wait for the data to be ready.\n",
              "    let fileData = yield {\n",
              "      promise: fileDataPromise,\n",
              "      response: {\n",
              "        action: 'continue',\n",
              "      }\n",
              "    };\n",
              "\n",
              "    // Use a chunked sending to avoid message size limits. See b/62115660.\n",
              "    let position = 0;\n",
              "    do {\n",
              "      const length = Math.min(fileData.byteLength - position, MAX_PAYLOAD_SIZE);\n",
              "      const chunk = new Uint8Array(fileData, position, length);\n",
              "      position += length;\n",
              "\n",
              "      const base64 = btoa(String.fromCharCode.apply(null, chunk));\n",
              "      yield {\n",
              "        response: {\n",
              "          action: 'append',\n",
              "          file: file.name,\n",
              "          data: base64,\n",
              "        },\n",
              "      };\n",
              "\n",
              "      let percentDone = fileData.byteLength === 0 ?\n",
              "          100 :\n",
              "          Math.round((position / fileData.byteLength) * 100);\n",
              "      percent.textContent = `${percentDone}% done`;\n",
              "\n",
              "    } while (position < fileData.byteLength);\n",
              "  }\n",
              "\n",
              "  // All done.\n",
              "  yield {\n",
              "    response: {\n",
              "      action: 'complete',\n",
              "    }\n",
              "  };\n",
              "}\n",
              "\n",
              "scope.google = scope.google || {};\n",
              "scope.google.colab = scope.google.colab || {};\n",
              "scope.google.colab._files = {\n",
              "  _uploadFiles,\n",
              "  _uploadFilesContinue,\n",
              "};\n",
              "})(self);\n",
              "</script> "
            ]
          },
          "metadata": {}
        },
        {
          "output_type": "stream",
          "name": "stdout",
          "text": [
            "Saving churn_prediction.csv to churn_prediction (1).csv\n"
          ]
        }
      ]
    },
    {
      "cell_type": "code",
      "source": [
        "# Loading dataset"
      ],
      "metadata": {
        "id": "TgvvlD460BEu"
      },
      "execution_count": null,
      "outputs": []
    },
    {
      "cell_type": "code",
      "source": [
        "bank = pd.read_csv('churn_prediction.csv')"
      ],
      "metadata": {
        "id": "4Uq1sC2Rfp5s"
      },
      "execution_count": null,
      "outputs": []
    },
    {
      "cell_type": "code",
      "source": [
        "# Data Exploration\n",
        "bank.info()"
      ],
      "metadata": {
        "colab": {
          "base_uri": "https://localhost:8080/"
        },
        "id": "m4D6vGqifrnp",
        "outputId": "b5855509-b01b-4e41-fa99-b40747ad69b6"
      },
      "execution_count": null,
      "outputs": [
        {
          "output_type": "stream",
          "name": "stdout",
          "text": [
            "<class 'pandas.core.frame.DataFrame'>\n",
            "RangeIndex: 28382 entries, 0 to 28381\n",
            "Data columns (total 21 columns):\n",
            " #   Column                          Non-Null Count  Dtype  \n",
            "---  ------                          --------------  -----  \n",
            " 0   customer_id                     28382 non-null  int64  \n",
            " 1   vintage                         28382 non-null  int64  \n",
            " 2   age                             28382 non-null  int64  \n",
            " 3   gender                          27857 non-null  object \n",
            " 4   dependents                      25919 non-null  float64\n",
            " 5   occupation                      28302 non-null  object \n",
            " 6   city                            27579 non-null  float64\n",
            " 7   customer_nw_category            28382 non-null  int64  \n",
            " 8   branch_code                     28382 non-null  int64  \n",
            " 9   current_balance                 28382 non-null  float64\n",
            " 10  previous_month_end_balance      28382 non-null  float64\n",
            " 11  average_monthly_balance_prevQ   28382 non-null  float64\n",
            " 12  average_monthly_balance_prevQ2  28382 non-null  float64\n",
            " 13  current_month_credit            28382 non-null  float64\n",
            " 14  previous_month_credit           28382 non-null  float64\n",
            " 15  current_month_debit             28382 non-null  float64\n",
            " 16  previous_month_debit            28382 non-null  float64\n",
            " 17  current_month_balance           28382 non-null  float64\n",
            " 18  previous_month_balance          28382 non-null  float64\n",
            " 19  churn                           28382 non-null  int64  \n",
            " 20  last_transaction                28382 non-null  object \n",
            "dtypes: float64(12), int64(6), object(3)\n",
            "memory usage: 4.5+ MB\n"
          ]
        }
      ]
    },
    {
      "cell_type": "code",
      "source": [
        "# Evaluating how many unique occupations and the count for each\n",
        "bank.groupby('occupation').agg({'occupation':'count'})"
      ],
      "metadata": {
        "colab": {
          "base_uri": "https://localhost:8080/",
          "height": 237
        },
        "id": "a5Ku0IbZf0PP",
        "outputId": "a27885cf-374f-4cd3-89bd-f6208ca5b75b"
      },
      "execution_count": null,
      "outputs": [
        {
          "output_type": "execute_result",
          "data": {
            "text/plain": [
              "               occupation\n",
              "occupation               \n",
              "company                40\n",
              "retired              2024\n",
              "salaried             6704\n",
              "self_employed       17476\n",
              "student              2058"
            ],
            "text/html": [
              "\n",
              "  <div id=\"df-123702e6-84db-49ee-8311-ee219dab5cef\" class=\"colab-df-container\">\n",
              "    <div>\n",
              "<style scoped>\n",
              "    .dataframe tbody tr th:only-of-type {\n",
              "        vertical-align: middle;\n",
              "    }\n",
              "\n",
              "    .dataframe tbody tr th {\n",
              "        vertical-align: top;\n",
              "    }\n",
              "\n",
              "    .dataframe thead th {\n",
              "        text-align: right;\n",
              "    }\n",
              "</style>\n",
              "<table border=\"1\" class=\"dataframe\">\n",
              "  <thead>\n",
              "    <tr style=\"text-align: right;\">\n",
              "      <th></th>\n",
              "      <th>occupation</th>\n",
              "    </tr>\n",
              "    <tr>\n",
              "      <th>occupation</th>\n",
              "      <th></th>\n",
              "    </tr>\n",
              "  </thead>\n",
              "  <tbody>\n",
              "    <tr>\n",
              "      <th>company</th>\n",
              "      <td>40</td>\n",
              "    </tr>\n",
              "    <tr>\n",
              "      <th>retired</th>\n",
              "      <td>2024</td>\n",
              "    </tr>\n",
              "    <tr>\n",
              "      <th>salaried</th>\n",
              "      <td>6704</td>\n",
              "    </tr>\n",
              "    <tr>\n",
              "      <th>self_employed</th>\n",
              "      <td>17476</td>\n",
              "    </tr>\n",
              "    <tr>\n",
              "      <th>student</th>\n",
              "      <td>2058</td>\n",
              "    </tr>\n",
              "  </tbody>\n",
              "</table>\n",
              "</div>\n",
              "    <div class=\"colab-df-buttons\">\n",
              "\n",
              "  <div class=\"colab-df-container\">\n",
              "    <button class=\"colab-df-convert\" onclick=\"convertToInteractive('df-123702e6-84db-49ee-8311-ee219dab5cef')\"\n",
              "            title=\"Convert this dataframe to an interactive table.\"\n",
              "            style=\"display:none;\">\n",
              "\n",
              "  <svg xmlns=\"http://www.w3.org/2000/svg\" height=\"24px\" viewBox=\"0 -960 960 960\">\n",
              "    <path d=\"M120-120v-720h720v720H120Zm60-500h600v-160H180v160Zm220 220h160v-160H400v160Zm0 220h160v-160H400v160ZM180-400h160v-160H180v160Zm440 0h160v-160H620v160ZM180-180h160v-160H180v160Zm440 0h160v-160H620v160Z\"/>\n",
              "  </svg>\n",
              "    </button>\n",
              "\n",
              "  <style>\n",
              "    .colab-df-container {\n",
              "      display:flex;\n",
              "      gap: 12px;\n",
              "    }\n",
              "\n",
              "    .colab-df-convert {\n",
              "      background-color: #E8F0FE;\n",
              "      border: none;\n",
              "      border-radius: 50%;\n",
              "      cursor: pointer;\n",
              "      display: none;\n",
              "      fill: #1967D2;\n",
              "      height: 32px;\n",
              "      padding: 0 0 0 0;\n",
              "      width: 32px;\n",
              "    }\n",
              "\n",
              "    .colab-df-convert:hover {\n",
              "      background-color: #E2EBFA;\n",
              "      box-shadow: 0px 1px 2px rgba(60, 64, 67, 0.3), 0px 1px 3px 1px rgba(60, 64, 67, 0.15);\n",
              "      fill: #174EA6;\n",
              "    }\n",
              "\n",
              "    .colab-df-buttons div {\n",
              "      margin-bottom: 4px;\n",
              "    }\n",
              "\n",
              "    [theme=dark] .colab-df-convert {\n",
              "      background-color: #3B4455;\n",
              "      fill: #D2E3FC;\n",
              "    }\n",
              "\n",
              "    [theme=dark] .colab-df-convert:hover {\n",
              "      background-color: #434B5C;\n",
              "      box-shadow: 0px 1px 3px 1px rgba(0, 0, 0, 0.15);\n",
              "      filter: drop-shadow(0px 1px 2px rgba(0, 0, 0, 0.3));\n",
              "      fill: #FFFFFF;\n",
              "    }\n",
              "  </style>\n",
              "\n",
              "    <script>\n",
              "      const buttonEl =\n",
              "        document.querySelector('#df-123702e6-84db-49ee-8311-ee219dab5cef button.colab-df-convert');\n",
              "      buttonEl.style.display =\n",
              "        google.colab.kernel.accessAllowed ? 'block' : 'none';\n",
              "\n",
              "      async function convertToInteractive(key) {\n",
              "        const element = document.querySelector('#df-123702e6-84db-49ee-8311-ee219dab5cef');\n",
              "        const dataTable =\n",
              "          await google.colab.kernel.invokeFunction('convertToInteractive',\n",
              "                                                    [key], {});\n",
              "        if (!dataTable) return;\n",
              "\n",
              "        const docLinkHtml = 'Like what you see? Visit the ' +\n",
              "          '<a target=\"_blank\" href=https://colab.research.google.com/notebooks/data_table.ipynb>data table notebook</a>'\n",
              "          + ' to learn more about interactive tables.';\n",
              "        element.innerHTML = '';\n",
              "        dataTable['output_type'] = 'display_data';\n",
              "        await google.colab.output.renderOutput(dataTable, element);\n",
              "        const docLink = document.createElement('div');\n",
              "        docLink.innerHTML = docLinkHtml;\n",
              "        element.appendChild(docLink);\n",
              "      }\n",
              "    </script>\n",
              "  </div>\n",
              "\n",
              "\n",
              "<div id=\"df-3c56f0aa-9a93-4776-bfea-2ae1a0e4704c\">\n",
              "  <button class=\"colab-df-quickchart\" onclick=\"quickchart('df-3c56f0aa-9a93-4776-bfea-2ae1a0e4704c')\"\n",
              "            title=\"Suggest charts\"\n",
              "            style=\"display:none;\">\n",
              "\n",
              "<svg xmlns=\"http://www.w3.org/2000/svg\" height=\"24px\"viewBox=\"0 0 24 24\"\n",
              "     width=\"24px\">\n",
              "    <g>\n",
              "        <path d=\"M19 3H5c-1.1 0-2 .9-2 2v14c0 1.1.9 2 2 2h14c1.1 0 2-.9 2-2V5c0-1.1-.9-2-2-2zM9 17H7v-7h2v7zm4 0h-2V7h2v10zm4 0h-2v-4h2v4z\"/>\n",
              "    </g>\n",
              "</svg>\n",
              "  </button>\n",
              "\n",
              "<style>\n",
              "  .colab-df-quickchart {\n",
              "      --bg-color: #E8F0FE;\n",
              "      --fill-color: #1967D2;\n",
              "      --hover-bg-color: #E2EBFA;\n",
              "      --hover-fill-color: #174EA6;\n",
              "      --disabled-fill-color: #AAA;\n",
              "      --disabled-bg-color: #DDD;\n",
              "  }\n",
              "\n",
              "  [theme=dark] .colab-df-quickchart {\n",
              "      --bg-color: #3B4455;\n",
              "      --fill-color: #D2E3FC;\n",
              "      --hover-bg-color: #434B5C;\n",
              "      --hover-fill-color: #FFFFFF;\n",
              "      --disabled-bg-color: #3B4455;\n",
              "      --disabled-fill-color: #666;\n",
              "  }\n",
              "\n",
              "  .colab-df-quickchart {\n",
              "    background-color: var(--bg-color);\n",
              "    border: none;\n",
              "    border-radius: 50%;\n",
              "    cursor: pointer;\n",
              "    display: none;\n",
              "    fill: var(--fill-color);\n",
              "    height: 32px;\n",
              "    padding: 0;\n",
              "    width: 32px;\n",
              "  }\n",
              "\n",
              "  .colab-df-quickchart:hover {\n",
              "    background-color: var(--hover-bg-color);\n",
              "    box-shadow: 0 1px 2px rgba(60, 64, 67, 0.3), 0 1px 3px 1px rgba(60, 64, 67, 0.15);\n",
              "    fill: var(--button-hover-fill-color);\n",
              "  }\n",
              "\n",
              "  .colab-df-quickchart-complete:disabled,\n",
              "  .colab-df-quickchart-complete:disabled:hover {\n",
              "    background-color: var(--disabled-bg-color);\n",
              "    fill: var(--disabled-fill-color);\n",
              "    box-shadow: none;\n",
              "  }\n",
              "\n",
              "  .colab-df-spinner {\n",
              "    border: 2px solid var(--fill-color);\n",
              "    border-color: transparent;\n",
              "    border-bottom-color: var(--fill-color);\n",
              "    animation:\n",
              "      spin 1s steps(1) infinite;\n",
              "  }\n",
              "\n",
              "  @keyframes spin {\n",
              "    0% {\n",
              "      border-color: transparent;\n",
              "      border-bottom-color: var(--fill-color);\n",
              "      border-left-color: var(--fill-color);\n",
              "    }\n",
              "    20% {\n",
              "      border-color: transparent;\n",
              "      border-left-color: var(--fill-color);\n",
              "      border-top-color: var(--fill-color);\n",
              "    }\n",
              "    30% {\n",
              "      border-color: transparent;\n",
              "      border-left-color: var(--fill-color);\n",
              "      border-top-color: var(--fill-color);\n",
              "      border-right-color: var(--fill-color);\n",
              "    }\n",
              "    40% {\n",
              "      border-color: transparent;\n",
              "      border-right-color: var(--fill-color);\n",
              "      border-top-color: var(--fill-color);\n",
              "    }\n",
              "    60% {\n",
              "      border-color: transparent;\n",
              "      border-right-color: var(--fill-color);\n",
              "    }\n",
              "    80% {\n",
              "      border-color: transparent;\n",
              "      border-right-color: var(--fill-color);\n",
              "      border-bottom-color: var(--fill-color);\n",
              "    }\n",
              "    90% {\n",
              "      border-color: transparent;\n",
              "      border-bottom-color: var(--fill-color);\n",
              "    }\n",
              "  }\n",
              "</style>\n",
              "\n",
              "  <script>\n",
              "    async function quickchart(key) {\n",
              "      const quickchartButtonEl =\n",
              "        document.querySelector('#' + key + ' button');\n",
              "      quickchartButtonEl.disabled = true;  // To prevent multiple clicks.\n",
              "      quickchartButtonEl.classList.add('colab-df-spinner');\n",
              "      try {\n",
              "        const charts = await google.colab.kernel.invokeFunction(\n",
              "            'suggestCharts', [key], {});\n",
              "      } catch (error) {\n",
              "        console.error('Error during call to suggestCharts:', error);\n",
              "      }\n",
              "      quickchartButtonEl.classList.remove('colab-df-spinner');\n",
              "      quickchartButtonEl.classList.add('colab-df-quickchart-complete');\n",
              "    }\n",
              "    (() => {\n",
              "      let quickchartButtonEl =\n",
              "        document.querySelector('#df-3c56f0aa-9a93-4776-bfea-2ae1a0e4704c button');\n",
              "      quickchartButtonEl.style.display =\n",
              "        google.colab.kernel.accessAllowed ? 'block' : 'none';\n",
              "    })();\n",
              "  </script>\n",
              "</div>\n",
              "    </div>\n",
              "  </div>\n"
            ]
          },
          "metadata": {},
          "execution_count": 122
        }
      ]
    },
    {
      "cell_type": "code",
      "source": [
        "#Creating a subset with minical data\n",
        "bank_occ = bank[['customer_id', 'vintage', 'age', 'occupation', 'churn', 'current_month_credit']]"
      ],
      "metadata": {
        "id": "ZRQdLM1XOq_-"
      },
      "execution_count": null,
      "outputs": []
    },
    {
      "cell_type": "code",
      "source": [
        "# Viewing subset data info\n",
        "bank_occ.info()"
      ],
      "metadata": {
        "colab": {
          "base_uri": "https://localhost:8080/"
        },
        "id": "_TIZRKH8PkZm",
        "outputId": "3c2d3952-d2f0-4e23-bd09-f7abdddc1d32"
      },
      "execution_count": null,
      "outputs": [
        {
          "output_type": "stream",
          "name": "stdout",
          "text": [
            "<class 'pandas.core.frame.DataFrame'>\n",
            "RangeIndex: 28382 entries, 0 to 28381\n",
            "Data columns (total 6 columns):\n",
            " #   Column                Non-Null Count  Dtype  \n",
            "---  ------                --------------  -----  \n",
            " 0   customer_id           28382 non-null  int64  \n",
            " 1   vintage               28382 non-null  int64  \n",
            " 2   age                   28382 non-null  int64  \n",
            " 3   occupation            28302 non-null  object \n",
            " 4   churn                 28382 non-null  int64  \n",
            " 5   current_month_credit  28382 non-null  float64\n",
            "dtypes: float64(1), int64(4), object(1)\n",
            "memory usage: 1.3+ MB\n"
          ]
        }
      ]
    },
    {
      "cell_type": "code",
      "source": [
        "# Deleting duplicates in subset dataset & viewing changes"
      ],
      "metadata": {
        "id": "7kwSXXZw0KAo"
      },
      "execution_count": null,
      "outputs": []
    },
    {
      "cell_type": "code",
      "source": [
        "bank_occ.dropna(inplace=True)"
      ],
      "metadata": {
        "colab": {
          "base_uri": "https://localhost:8080/"
        },
        "id": "sGqiWpyKQAEr",
        "outputId": "874ea606-7b35-4c84-daaf-24802b23ad69"
      },
      "execution_count": null,
      "outputs": [
        {
          "output_type": "stream",
          "name": "stderr",
          "text": [
            "<ipython-input-126-9d07c29ce844>:1: SettingWithCopyWarning: \n",
            "A value is trying to be set on a copy of a slice from a DataFrame\n",
            "\n",
            "See the caveats in the documentation: https://pandas.pydata.org/pandas-docs/stable/user_guide/indexing.html#returning-a-view-versus-a-copy\n",
            "  bank_occ.dropna(inplace=True)\n"
          ]
        }
      ]
    },
    {
      "cell_type": "code",
      "source": [
        "bank_occ.info()"
      ],
      "metadata": {
        "colab": {
          "base_uri": "https://localhost:8080/"
        },
        "id": "FBdrR9BnQSn3",
        "outputId": "f4589cf2-b7d8-4874-a93c-0d3adc772fe4"
      },
      "execution_count": null,
      "outputs": [
        {
          "output_type": "stream",
          "name": "stdout",
          "text": [
            "<class 'pandas.core.frame.DataFrame'>\n",
            "Int64Index: 28302 entries, 0 to 28381\n",
            "Data columns (total 6 columns):\n",
            " #   Column                Non-Null Count  Dtype  \n",
            "---  ------                --------------  -----  \n",
            " 0   customer_id           28302 non-null  int64  \n",
            " 1   vintage               28302 non-null  int64  \n",
            " 2   age                   28302 non-null  int64  \n",
            " 3   occupation            28302 non-null  object \n",
            " 4   churn                 28302 non-null  int64  \n",
            " 5   current_month_credit  28302 non-null  float64\n",
            "dtypes: float64(1), int64(4), object(1)\n",
            "memory usage: 1.5+ MB\n"
          ]
        }
      ]
    },
    {
      "cell_type": "code",
      "source": [
        "# Creating a dataset for each Occupation group"
      ],
      "metadata": {
        "id": "SjX8QU6f0Q9K"
      },
      "execution_count": null,
      "outputs": []
    },
    {
      "cell_type": "code",
      "source": [
        "self_employed = bank_occ[((bank_occ['occupation'] == 'self_employed')) & ((bank_occ['churn'] == 1))]\n",
        "salaried = bank_occ[((bank_occ['occupation'] == 'salaried')) & ((bank_occ['churn'] == 1))]\n",
        "other = bank_occ[((bank_occ['occupation'].isin(['company', 'retired', 'student']))) & ((bank_occ['churn'] == 1))]"
      ],
      "metadata": {
        "id": "QmbKZmIpf2g7"
      },
      "execution_count": null,
      "outputs": []
    },
    {
      "cell_type": "code",
      "source": [
        "# Confirming that totals tie out"
      ],
      "metadata": {
        "id": "N7sJ3c-ihgIa"
      },
      "execution_count": null,
      "outputs": []
    },
    {
      "cell_type": "code",
      "source": [
        "print('self-employed: ', len(self_employed))\n",
        "print('salaried: ', len(salaried))\n",
        "print('Other(company,retired,student): ', len(other))\n",
        "\n",
        "print('summed total: ', len(self_employed)+len(salaried)+len(other))\n",
        "print('')\n",
        "print(len(bank_occ[bank_occ['churn'] == 1]), 'dataset total')\n"
      ],
      "metadata": {
        "colab": {
          "base_uri": "https://localhost:8080/"
        },
        "id": "mhhekjX8f7rE",
        "outputId": "d9686cf2-b746-4079-a548-47c6acf3ccf9"
      },
      "execution_count": null,
      "outputs": [
        {
          "output_type": "stream",
          "name": "stdout",
          "text": [
            "self-employed:  3467\n",
            "salaried:  1147\n",
            "Other(company,retired,student):  633\n",
            "summed total:  5247\n",
            "\n",
            "5247 dataset total\n"
          ]
        }
      ]
    },
    {
      "cell_type": "markdown",
      "source": [
        "### Visualizing the data"
      ],
      "metadata": {
        "id": "EDBf-gvCkTOX"
      }
    },
    {
      "cell_type": "code",
      "source": [
        "# Salaried Cusotmer Distribution"
      ],
      "metadata": {
        "id": "edYV1mO1aURA"
      },
      "execution_count": null,
      "outputs": []
    },
    {
      "cell_type": "code",
      "source": [
        "ax = sns.histplot(salaried['vintage'], bins=50, kde=True)\n",
        "ax.set(xlabel =\"Duration\", ylabel = \"Count\", title ='Customer Occupation: Salaried Customer')"
      ],
      "metadata": {
        "colab": {
          "base_uri": "https://localhost:8080/",
          "height": 527
        },
        "id": "ag7cNeTLgMYQ",
        "outputId": "770aec80-4d03-4400-ec85-7bc4ad56b94b"
      },
      "execution_count": null,
      "outputs": [
        {
          "output_type": "execute_result",
          "data": {
            "text/plain": [
              "[Text(0.5, 0, 'Duration'),\n",
              " Text(0, 0.5, 'Count'),\n",
              " Text(0.5, 1.0, 'Customer Occupation: Salaried Customer')]"
            ]
          },
          "metadata": {},
          "execution_count": 133
        },
        {
          "output_type": "display_data",
          "data": {
            "text/plain": [
              "<Figure size 640x480 with 1 Axes>"
            ],
            "image/png": "[encoded data removed]"
          },
          "metadata": {}
        }
      ]
    },
    {
      "cell_type": "code",
      "source": [
        "# Self-Employed Distribution"
      ],
      "metadata": {
        "id": "SYMNJmSlaaZR"
      },
      "execution_count": null,
      "outputs": []
    },
    {
      "cell_type": "code",
      "source": [
        "ax = sns.histplot(self_employed['vintage'], bins=50, kde=True)\n",
        "ax.set(xlabel =\"Duration\", ylabel = \"Count\", title ='Customer Occupation: Self-Employed Customer')"
      ],
      "metadata": {
        "colab": {
          "base_uri": "https://localhost:8080/",
          "height": 527
        },
        "id": "gOn9P-tEgObS",
        "outputId": "c8010d4e-bf8e-4b90-cce5-9a4abdf86786"
      },
      "execution_count": null,
      "outputs": [
        {
          "output_type": "execute_result",
          "data": {
            "text/plain": [
              "[Text(0.5, 0, 'Duration'),\n",
              " Text(0, 0.5, 'Count'),\n",
              " Text(0.5, 1.0, 'Customer Occupation: Self-Employed Customer')]"
            ]
          },
          "metadata": {},
          "execution_count": 135
        },
        {
          "output_type": "display_data",
          "data": {
            "text/plain": [
              "<Figure size 640x480 with 1 Axes>"
            ],
            "image/png": "[encoded data removed]"
          },
          "metadata": {}
        }
      ]
    },
    {
      "cell_type": "code",
      "source": [
        "# Other Distribution"
      ],
      "metadata": {
        "id": "ygPoIBSPadeu"
      },
      "execution_count": null,
      "outputs": []
    },
    {
      "cell_type": "code",
      "source": [
        "ax = sns.histplot(other['vintage'], bins=50, kde=True)\n",
        "ax.set(xlabel =\"Duration\", ylabel = \"Count\", title ='Customer Occupation: Other(Company/Retired/Students)')"
      ],
      "metadata": {
        "colab": {
          "base_uri": "https://localhost:8080/",
          "height": 527
        },
        "id": "fh-KVQx8gQQw",
        "outputId": "40a39dcc-79c2-4cd0-f177-be576c27dd37"
      },
      "execution_count": null,
      "outputs": [
        {
          "output_type": "execute_result",
          "data": {
            "text/plain": [
              "[Text(0.5, 0, 'Duration'),\n",
              " Text(0, 0.5, 'Count'),\n",
              " Text(0.5, 1.0, 'Customer Occupation: Other(Company/Retired/Students)')]"
            ]
          },
          "metadata": {},
          "execution_count": 137
        },
        {
          "output_type": "display_data",
          "data": {
            "text/plain": [
              "<Figure size 640x480 with 1 Axes>"
            ],
            "image/png": "[encoded data removed]"
          },
          "metadata": {}
        }
      ]
    },
    {
      "cell_type": "code",
      "source": [
        "# Distribution Overlay and Stats for each Sample\n",
        "# Review Skewness and Kurtosis"
      ],
      "metadata": {
        "id": "W3wWyzt0bXDA"
      },
      "execution_count": null,
      "outputs": []
    },
    {
      "cell_type": "code",
      "source": [
        "plt.hist(salaried['vintage'], alpha = .5)\n",
        "plt.hist(self_employed['vintage'], alpha = .5)\n",
        "plt.hist(other['vintage'], alpha = .5)\n",
        "plt.show()\n",
        "\n",
        "print(stats.describe(salaried['vintage']))\n",
        "print(stats.describe(self_employed['vintage']))\n",
        "print(stats.describe(other['vintage']))"
      ],
      "metadata": {
        "colab": {
          "base_uri": "https://localhost:8080/",
          "height": 485
        },
        "id": "11hx9Khiw4hH",
        "outputId": "73615b26-9230-4cd3-98fc-09dd3e471130"
      },
      "execution_count": null,
      "outputs": [
        {
          "output_type": "display_data",
          "data": {
            "text/plain": [
              "<Figure size 640x480 with 1 Axes>"
            ],
            "image/png": "[encoded data removed]"
          },
          "metadata": {}
        },
        {
          "output_type": "stream",
          "name": "stdout",
          "text": [
            "DescribeResult(nobs=1147, minmax=(897, 2473), mean=2103.5858761987793, variance=71169.37721744714, skewness=-1.291332383970739, kurtosis=1.7575846493546239)\n",
            "DescribeResult(nobs=3467, minmax=(469, 2474), mean=2082.575713873666, variance=74110.3078116296, skewness=-1.2877607468841303, kurtosis=2.240429793867575)\n",
            "DescribeResult(nobs=633, minmax=(703, 2466), mean=2093.6729857819905, variance=80258.74574059632, skewness=-1.380190236217246, kurtosis=2.412474433172366)\n"
          ]
        }
      ]
    },
    {
      "cell_type": "code",
      "source": [
        "# Salaried Customer Occupation\n",
        "salaried.boxplot('vintage', figsize=(3, 2))"
      ],
      "metadata": {
        "colab": {
          "base_uri": "https://localhost:8080/",
          "height": 233
        },
        "id": "ojtihUljB2bp",
        "outputId": "807df1f9-c35b-4087-80c0-58285f80d1ff"
      },
      "execution_count": null,
      "outputs": [
        {
          "output_type": "execute_result",
          "data": {
            "text/plain": [
              "<Axes: >"
            ]
          },
          "metadata": {},
          "execution_count": 140
        },
        {
          "output_type": "display_data",
          "data": {
            "text/plain": [
              "<Figure size 300x200 with 1 Axes>"
            ],
            "image/png": "[encoded data removed]"
          },
          "metadata": {}
        }
      ]
    },
    {
      "cell_type": "code",
      "source": [
        "# Self-Employed Customer Occupation\n",
        "self_employed.boxplot('vintage', figsize=(3, 2))"
      ],
      "metadata": {
        "colab": {
          "base_uri": "https://localhost:8080/",
          "height": 233
        },
        "id": "Nb9VmFhWCgyg",
        "outputId": "8478cb9b-2e16-45fb-8fe3-11ed193e0b8f"
      },
      "execution_count": null,
      "outputs": [
        {
          "output_type": "execute_result",
          "data": {
            "text/plain": [
              "<Axes: >"
            ]
          },
          "metadata": {},
          "execution_count": 141
        },
        {
          "output_type": "display_data",
          "data": {
            "text/plain": [
              "<Figure size 300x200 with 1 Axes>"
            ],
            "image/png": "[encoded data removed]"
          },
          "metadata": {}
        }
      ]
    },
    {
      "cell_type": "code",
      "source": [
        "# Other Customer Occupation\n",
        "self_employed.boxplot('vintage', figsize=(3, 2))"
      ],
      "metadata": {
        "colab": {
          "base_uri": "https://localhost:8080/",
          "height": 233
        },
        "id": "a2i3EtYzCniN",
        "outputId": "a23d8d04-29ce-45bb-8f01-73a1ff8caa5b"
      },
      "execution_count": null,
      "outputs": [
        {
          "output_type": "execute_result",
          "data": {
            "text/plain": [
              "<Axes: >"
            ]
          },
          "metadata": {},
          "execution_count": 142
        },
        {
          "output_type": "display_data",
          "data": {
            "text/plain": [
              "<Figure size 300x200 with 1 Axes>"
            ],
            "image/png": "[encoded data removed]"
          },
          "metadata": {}
        }
      ]
    },
    {
      "cell_type": "markdown",
      "source": [
        "### Based on some visual cues and results, each group is seemingly normally distributed, as the skewness and kurtosis are contained below +/- 3 digits.\n",
        "\n",
        "### The boxplot seems to show some outliers, while the mean and median are similar in range.\n",
        "\n",
        "### Next Step: I will run a Shapiro-Wilk test to confirm normality."
      ],
      "metadata": {
        "id": "UH5WFDSRi6ky"
      }
    },
    {
      "cell_type": "code",
      "source": [
        "# Shapiro-Wilk test"
      ],
      "metadata": {
        "id": "x_vjfTN6kEbN"
      },
      "execution_count": null,
      "outputs": []
    },
    {
      "cell_type": "code",
      "source": [
        "print(stats.shapiro(salaried['vintage']))\n",
        "print(stats.shapiro(other['vintage']))"
      ],
      "metadata": {
        "id": "1eif5jxxxRpL",
        "colab": {
          "base_uri": "https://localhost:8080/"
        },
        "outputId": "669a5734-0781-4ed1-863f-6021228f1def"
      },
      "execution_count": null,
      "outputs": [
        {
          "output_type": "stream",
          "name": "stdout",
          "text": [
            "ShapiroResult(statistic=0.8990746736526489, pvalue=8.352762791039308e-27)\n",
            "ShapiroResult(statistic=0.8897504210472107, pvalue=7.395291944256704e-21)\n"
          ]
        }
      ]
    },
    {
      "cell_type": "markdown",
      "source": [
        "### Each p-value is far below 0.05. Although the W values are close to 1, the p-value does not meet the p-value > 0.05 threshold.\n",
        "\n",
        "##### NOTE: I've ommited testing the 'self-employed' group since the sample size is greater than 2,000 (at 3,467) and would be hyper-sensative, to any small difference\n",
        "\n",
        "### Therefore, we can assume the distribution is NOT normal. Moreover, we will skip the one way ANOVA test since the data seems to be Nonparametric."
      ],
      "metadata": {
        "id": "V0ljjMukluS0"
      }
    },
    {
      "cell_type": "markdown",
      "source": [
        "### Nonparametric Test"
      ],
      "metadata": {
        "id": "Zx4pvx1frIuH"
      }
    },
    {
      "cell_type": "code",
      "source": [
        "# Kruskal-Wallis test"
      ],
      "metadata": {
        "id": "Rqh6U9lHmb_2"
      },
      "execution_count": null,
      "outputs": []
    },
    {
      "cell_type": "code",
      "source": [
        "stats.kruskal(salaried['vintage'], self_employed['vintage'], other['vintage'])"
      ],
      "metadata": {
        "colab": {
          "base_uri": "https://localhost:8080/"
        },
        "id": "m6MbpG60tOAv",
        "outputId": "3210ae10-1179-4da6-92f6-c76152911339"
      },
      "execution_count": null,
      "outputs": [
        {
          "output_type": "execute_result",
          "data": {
            "text/plain": [
              "KruskalResult(statistic=8.11693400659162, pvalue=0.01727548208343954)"
            ]
          },
          "metadata": {},
          "execution_count": 146
        }
      ]
    },
    {
      "cell_type": "markdown",
      "source": [
        "### The p-value is below < 0.05 threhsold at a p-value of 0.02. Based on the Krustal-Wallis test, we can reject the Null Hypothesis"
      ],
      "metadata": {
        "id": "kmsCisYut0a7"
      }
    },
    {
      "cell_type": "code",
      "source": [
        "# Salaried vs Self-Employed"
      ],
      "metadata": {
        "id": "ZAqTRuVmvMHL"
      },
      "execution_count": null,
      "outputs": []
    },
    {
      "cell_type": "code",
      "source": [
        "stats.kruskal(salaried['vintage'], self_employed['vintage'])"
      ],
      "metadata": {
        "colab": {
          "base_uri": "https://localhost:8080/"
        },
        "id": "px749HENusdR",
        "outputId": "9ff6efe8-6d1a-4869-9251-6c1fea632911"
      },
      "execution_count": null,
      "outputs": [
        {
          "output_type": "execute_result",
          "data": {
            "text/plain": [
              "KruskalResult(statistic=6.602179424664815, pvalue=0.010185401915074638)"
            ]
          },
          "metadata": {},
          "execution_count": 148
        }
      ]
    },
    {
      "cell_type": "code",
      "source": [
        "# Self-Employed vs Other"
      ],
      "metadata": {
        "id": "g1aF0xzzvRoG"
      },
      "execution_count": null,
      "outputs": []
    },
    {
      "cell_type": "code",
      "source": [
        "stats.kruskal(self_employed['vintage'], other['vintage'])"
      ],
      "metadata": {
        "colab": {
          "base_uri": "https://localhost:8080/"
        },
        "id": "gZLNPXr6vGbI",
        "outputId": "20a09a95-bada-4a2f-88e5-6061aa04a942"
      },
      "execution_count": null,
      "outputs": [
        {
          "output_type": "execute_result",
          "data": {
            "text/plain": [
              "KruskalResult(statistic=2.934540360733683, pvalue=0.0867033382979139)"
            ]
          },
          "metadata": {},
          "execution_count": 150
        }
      ]
    },
    {
      "cell_type": "code",
      "source": [
        "# Salaried vs Other"
      ],
      "metadata": {
        "id": "2kDi1huVvpQk"
      },
      "execution_count": null,
      "outputs": []
    },
    {
      "cell_type": "code",
      "source": [
        "stats.kruskal(salaried['vintage'], other['vintage'])"
      ],
      "metadata": {
        "colab": {
          "base_uri": "https://localhost:8080/"
        },
        "id": "LeiPBux6vWOU",
        "outputId": "7ca0c2fe-db27-4b6b-c7d7-80bfe7a1a682"
      },
      "execution_count": null,
      "outputs": [
        {
          "output_type": "execute_result",
          "data": {
            "text/plain": [
              "KruskalResult(statistic=0.053877339105701735, pvalue=0.8164487517776675)"
            ]
          },
          "metadata": {},
          "execution_count": 152
        }
      ]
    },
    {
      "cell_type": "markdown",
      "source": [
        "# Results\n",
        "\n",
        "#### It appears that we can reject the H0: Null Hypothesis, that there is no difference in customer duration of the relationship with the bank, for churned churned customers. We can say with 95% confidence that any difference was not due to chance.\n",
        "\n",
        "#### Additionally, although we rejected the Null Hypothessis, the p-value was somewhat high, at 0.02.\n",
        "\n",
        "#### Moreover, between Salaried and Self-employed customers, the p-value was significant at 0.01. However, when other groups were compared, the p-value was above 0.05, which suggests that the true difference lies between Salaried and Self-Employed customers.\n",
        "\n",
        "#### Recomendation: Futher studies should be done to speficically test Salaried vs Self-Employed customers and assess for any additional differences between groups, as this can maybe help bank owners look to cater to customers differently, based on their occupations and perhaps reduce churn. Moveover, perhaps a bias in this study was combinining company, retired and students, into one group and it may be that these categories should be looked at seperately."
      ],
      "metadata": {
        "id": "1EXXUnOGwXTj"
      }
    },
    {
      "cell_type": "code",
      "source": [],
      "metadata": {
        "id": "mt1qoLj_viS2"
      },
      "execution_count": null,
      "outputs": []
    }
  ]
}